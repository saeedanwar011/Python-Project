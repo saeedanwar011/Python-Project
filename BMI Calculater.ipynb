{
 "cells": [
  {
   "cell_type": "markdown",
   "id": "3ad1e052",
   "metadata": {},
   "source": [
    "# BMI Calculater "
   ]
  },
  {
   "cell_type": "code",
   "execution_count": null,
   "id": "fc12962d",
   "metadata": {
    "scrolled": true
   },
   "outputs": [],
   "source": [
    "name = str(input('Enter your Name : '))\n",
    "height = int(input('Enter Your Height in CM : '))\n",
    "weight = int(input('Enter Your Weight in KG : '))\n",
    "\n",
    "BMI = weight / ((height / 100) ** 2 )\n",
    "print (BMI)\n",
    "\n",
    "if BMI > 0:\n",
    "    if BMI < 16:\n",
    "        print(name,'You are Severe Thinness')\n",
    "    elif BMI < 17:\n",
    "        print(name,'You are Moderate Thinness')\n",
    "    elif BMI < 18.5:\n",
    "        print(name,'You are Mild Thinness')\n",
    "    elif BMI < 25:\n",
    "        print(name,'You are Normal')\n",
    "    elif BMI < 30:\n",
    "        print(name,'You are Overweight')\n",
    "    elif BMI < 35:\n",
    "        print(name,'You are Obese Class I')\n",
    "    elif BMI < 35:\n",
    "        print(name,'You are Obese Class II')\n",
    "    elif BMI < 40:\n",
    "        print(name,'You are Obese Class III')\n",
    "else:\n",
    "    ('Give Valid Input')"
   ]
  }
 ],
 "metadata": {
  "kernelspec": {
   "display_name": "Python 3 (ipykernel)",
   "language": "python",
   "name": "python3"
  },
  "language_info": {
   "codemirror_mode": {
    "name": "ipython",
    "version": 3
   },
   "file_extension": ".py",
   "mimetype": "text/x-python",
   "name": "python",
   "nbconvert_exporter": "python",
   "pygments_lexer": "ipython3",
   "version": "3.9.12"
  }
 },
 "nbformat": 4,
 "nbformat_minor": 5
}
